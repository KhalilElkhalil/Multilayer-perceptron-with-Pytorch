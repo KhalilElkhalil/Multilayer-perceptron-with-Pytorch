{
 "cells": [
  {
   "cell_type": "markdown",
   "metadata": {},
   "source": [
    "# Implementing multilayer perceptron (MLP) for MNIST"
   ]
  },
  {
   "cell_type": "code",
   "execution_count": 107,
   "metadata": {},
   "outputs": [
    {
     "name": "stdout",
     "output_type": "stream",
     "text": [
      "1.1.0\n"
     ]
    }
   ],
   "source": [
    "# import useful packages \n",
    "import torch\n",
    "import torch.nn as nn \n",
    "import torch.nn.functional as F \n",
    "import torch.optim as optim\n",
    "import torchvision\n",
    "import torchvision.transforms as transforms\n",
    "import matplotlib.pyplot as plt \n",
    "import time \n",
    "import utils \n",
    "import numpy as np\n",
    "\n",
    "# torch version \n",
    "print(torch.__version__)"
   ]
  },
  {
   "cell_type": "markdown",
   "metadata": {},
   "source": [
    "## Download the data "
   ]
  },
  {
   "cell_type": "code",
   "execution_count": 123,
   "metadata": {},
   "outputs": [],
   "source": [
    "# train set \n",
    "train_loader = torch.utils.data.DataLoader(torchvision.datasets.MNIST(root='./data', train=True, download=True, transform=transforms.ToTensor()), batch_size=6000, shuffle=True)\n",
    "# test set\n",
    "test_loader = torch.utils.data.DataLoader(torchvision.datasets.MNIST(root='./data', train=False, download=True, transform=transforms.ToTensor()), batch_size=1000)"
   ]
  },
  {
   "cell_type": "markdown",
   "metadata": {},
   "source": [
    "## Visualize the data "
   ]
  },
  {
   "cell_type": "code",
   "execution_count": 126,
   "metadata": {},
   "outputs": [
    {
     "name": "stdout",
     "output_type": "stream",
     "text": [
      "train size = torch.Size([6000, 1, 28, 28])\n",
      "test size = torch.Size([1000, 1, 28, 28])\n"
     ]
    },
    {
     "ename": "AttributeError",
     "evalue": "'module' object has no attribute 'to_rgba'",
     "output_type": "error",
     "traceback": [
      "\u001b[0;31m---------------------------------------------------------------------------\u001b[0m",
      "\u001b[0;31mAttributeError\u001b[0m                            Traceback (most recent call last)",
      "\u001b[0;32m/usr/local/lib/python2.7/dist-packages/ipykernel/pylab/backend_inline.pyc\u001b[0m in \u001b[0;36mshow\u001b[0;34m(close, block)\u001b[0m\n\u001b[1;32m     37\u001b[0m             display(\n\u001b[1;32m     38\u001b[0m                 \u001b[0mfigure_manager\u001b[0m\u001b[0;34m.\u001b[0m\u001b[0mcanvas\u001b[0m\u001b[0;34m.\u001b[0m\u001b[0mfigure\u001b[0m\u001b[0;34m,\u001b[0m\u001b[0;34m\u001b[0m\u001b[0m\n\u001b[0;32m---> 39\u001b[0;31m                 \u001b[0mmetadata\u001b[0m\u001b[0;34m=\u001b[0m\u001b[0m_fetch_figure_metadata\u001b[0m\u001b[0;34m(\u001b[0m\u001b[0mfigure_manager\u001b[0m\u001b[0;34m.\u001b[0m\u001b[0mcanvas\u001b[0m\u001b[0;34m.\u001b[0m\u001b[0mfigure\u001b[0m\u001b[0;34m)\u001b[0m\u001b[0;34m\u001b[0m\u001b[0m\n\u001b[0m\u001b[1;32m     40\u001b[0m             )\n\u001b[1;32m     41\u001b[0m     \u001b[0;32mfinally\u001b[0m\u001b[0;34m:\u001b[0m\u001b[0;34m\u001b[0m\u001b[0m\n",
      "\u001b[0;32m/usr/local/lib/python2.7/dist-packages/ipykernel/pylab/backend_inline.pyc\u001b[0m in \u001b[0;36m_fetch_figure_metadata\u001b[0;34m(fig)\u001b[0m\n\u001b[1;32m    172\u001b[0m     \u001b[0;34m\"\"\"Get some metadata to help with displaying a figure.\"\"\"\u001b[0m\u001b[0;34m\u001b[0m\u001b[0m\n\u001b[1;32m    173\u001b[0m     \u001b[0;31m# determine if a background is needed for legibility\u001b[0m\u001b[0;34m\u001b[0m\u001b[0;34m\u001b[0m\u001b[0m\n\u001b[0;32m--> 174\u001b[0;31m     \u001b[0;32mif\u001b[0m \u001b[0m_is_transparent\u001b[0m\u001b[0;34m(\u001b[0m\u001b[0mfig\u001b[0m\u001b[0;34m.\u001b[0m\u001b[0mget_facecolor\u001b[0m\u001b[0;34m(\u001b[0m\u001b[0;34m)\u001b[0m\u001b[0;34m)\u001b[0m\u001b[0;34m:\u001b[0m\u001b[0;34m\u001b[0m\u001b[0m\n\u001b[0m\u001b[1;32m    175\u001b[0m         \u001b[0;31m# the background is transparent\u001b[0m\u001b[0;34m\u001b[0m\u001b[0;34m\u001b[0m\u001b[0m\n\u001b[1;32m    176\u001b[0m         ticksLight = _is_light([label.get_color()\n",
      "\u001b[0;32m/usr/local/lib/python2.7/dist-packages/ipykernel/pylab/backend_inline.pyc\u001b[0m in \u001b[0;36m_is_transparent\u001b[0;34m(color)\u001b[0m\n\u001b[1;32m    193\u001b[0m \u001b[0;32mdef\u001b[0m \u001b[0m_is_transparent\u001b[0m\u001b[0;34m(\u001b[0m\u001b[0mcolor\u001b[0m\u001b[0;34m)\u001b[0m\u001b[0;34m:\u001b[0m\u001b[0;34m\u001b[0m\u001b[0m\n\u001b[1;32m    194\u001b[0m     \u001b[0;34m\"\"\"Determine transparency from alpha.\"\"\"\u001b[0m\u001b[0;34m\u001b[0m\u001b[0m\n\u001b[0;32m--> 195\u001b[0;31m     \u001b[0mrgba\u001b[0m \u001b[0;34m=\u001b[0m \u001b[0mcolors\u001b[0m\u001b[0;34m.\u001b[0m\u001b[0mto_rgba\u001b[0m\u001b[0;34m(\u001b[0m\u001b[0mcolor\u001b[0m\u001b[0;34m)\u001b[0m\u001b[0;34m\u001b[0m\u001b[0m\n\u001b[0m\u001b[1;32m    196\u001b[0m     \u001b[0;32mreturn\u001b[0m \u001b[0mrgba\u001b[0m\u001b[0;34m[\u001b[0m\u001b[0;36m3\u001b[0m\u001b[0;34m]\u001b[0m \u001b[0;34m<\u001b[0m \u001b[0;36m.5\u001b[0m\u001b[0;34m\u001b[0m\u001b[0m\n",
      "\u001b[0;31mAttributeError\u001b[0m: 'module' object has no attribute 'to_rgba'"
     ]
    }
   ],
   "source": [
    "# extract data from the loader \n",
    "train_data = enumerate(train_loader)\n",
    "batch_idx, (train_set, train_targets) = next(train_data)\n",
    "test_data = enumerate(test_loader)\n",
    "batch_idx, (test_set, test_targets) = next(test_data)\n",
    "\n",
    "# plot the first 4 images \n",
    "images = plt.figure()\n",
    "for i in range(4):\n",
    "    plt.subplot(2,2,i+1)\n",
    "    plt.tight_layout()\n",
    "    plt.imshow(train_set[i][0], cmap='gray', interpolation='none')\n",
    "\n",
    "images     \n",
    "\n",
    "print('train size = ' + str(train_set.size()))\n",
    "print('test size = ' + str(test_set.size()))\n"
   ]
  },
  {
   "cell_type": "markdown",
   "metadata": {},
   "source": [
    "## Two layer network class "
   ]
  },
  {
   "cell_type": "code",
   "execution_count": 142,
   "metadata": {},
   "outputs": [],
   "source": [
    "# design the net \n",
    "class two_layers(nn.Module):\n",
    "    def __init__(self, input_size, hidden_size, output_size):\n",
    "        super(two_layers , self).__init__()\n",
    "        \n",
    "        # layer 1 \n",
    "        self.layer1 = nn.Linear(input_size, hidden_size, bias=True)\n",
    "        # layer 2\n",
    "        self.layer2 = nn.Linear(hidden_size, output_size, bias=True)\n",
    "    \n",
    "    # forward pass \n",
    "    def forward(self, x):\n",
    "        y_hidden = self.layer1(x)        \n",
    "        y = self.layer2(F.relu(y_hidden))\n",
    "        \n",
    "        return y "
   ]
  },
  {
   "cell_type": "code",
   "execution_count": 143,
   "metadata": {},
   "outputs": [
    {
     "name": "stdout",
     "output_type": "stream",
     "text": [
      "two_layers(\n",
      "  (layer1): Linear(in_features=784, out_features=500, bias=True)\n",
      "  (layer2): Linear(in_features=500, out_features=10, bias=True)\n",
      ")\n",
      "There are 397510 (0.40 million) parameters in this neural network\n"
     ]
    }
   ],
   "source": [
    "# create one net \n",
    "net = two_layers(input_size=784, hidden_size=500, output_size=10)\n",
    "print(net)\n",
    "utils.display_num_param(net)"
   ]
  },
  {
   "cell_type": "markdown",
   "metadata": {},
   "source": [
    "## Learning parameters: learning rate, batch size and optimizer: SGD, ..."
   ]
  },
  {
   "cell_type": "code",
   "execution_count": 154,
   "metadata": {},
   "outputs": [],
   "source": [
    "# define the loss function, cross entropy in this case \n",
    "cross_entropy = nn.CrossEntropyLoss()\n",
    "# setup the optimizer which is SGD with a learning rate lr \n",
    "optimizer=torch.optim.SGD(net.parameters(), lr=0.01 )\n",
    "# bacth size \n",
    "bs = 20"
   ]
  },
  {
   "cell_type": "markdown",
   "metadata": {},
   "source": [
    "## Evaluate error on the test set "
   ]
  },
  {
   "cell_type": "code",
   "execution_count": 186,
   "metadata": {},
   "outputs": [],
   "source": [
    "def error_on_test_set():\n",
    "    current_error = 0\n",
    "    num_batches = 0\n",
    "    \n",
    "    # evaluate error at every minibatch \n",
    "    for batch in range(0, 1000, bs):\n",
    "        \n",
    "        # extract test minibatch \n",
    "        test_mini_batch = test_set[batch:batch+bs]\n",
    "        input_test = test_mini_batch.view(bs, 784)\n",
    "        # extract corresponding labels \n",
    "        label_minibatch = test_targets[batch:batch+bs]\n",
    "        # one forward pass over the network \n",
    "        y_hat = net(input_test)\n",
    "        # compute error \n",
    "        error = utils.get_error(y_hat, label_minibatch)\n",
    "        \n",
    "        # update stats. \n",
    "        num_batches += 1\n",
    "        current_error += error.item()\n",
    "    \n",
    "    avg_error = current_error / num_batches\n",
    "    print('The error on test set = ' + str(avg_error*100) + '%')"
   ]
  },
  {
   "cell_type": "markdown",
   "metadata": {},
   "source": [
    "## Training the network "
   ]
  },
  {
   "cell_type": "code",
   "execution_count": 189,
   "metadata": {},
   "outputs": [
    {
     "name": "stdout",
     "output_type": "stream",
     "text": [
      "The loss for epoch number 0 = 0.00865451056627\n",
      "The error for epoch number 0 = 0.0\n",
      "The error on test set = 5.90000092983%\n",
      "The loss for epoch number 10 = 0.00785449115094\n",
      "The error for epoch number 10 = 0.0\n",
      "The error on test set = 5.90000092983%\n",
      "The loss for epoch number 20 = 0.00718958249529\n",
      "The error for epoch number 20 = 0.0\n",
      "The error on test set = 5.70000088215%\n",
      "The loss for epoch number 30 = 0.00663072751951\n",
      "The error for epoch number 30 = 0.0\n",
      "The error on test set = 5.70000088215%\n",
      "The loss for epoch number 40 = 0.00614241601123\n",
      "The error for epoch number 40 = 0.0\n",
      "The error on test set = 5.70000088215%\n",
      "The loss for epoch number 50 = 0.00572464592716\n",
      "The error for epoch number 50 = 0.0\n",
      "The error on test set = 5.80000090599%\n",
      "The loss for epoch number 60 = 0.00534556960347\n",
      "The error for epoch number 60 = 0.0\n",
      "The error on test set = 5.90000081062%\n",
      "The loss for epoch number 70 = 0.00502621515712\n",
      "The error for epoch number 70 = 0.0\n",
      "The error on test set = 5.80000090599%\n",
      "The loss for epoch number 80 = 0.00473622758853\n",
      "The error for epoch number 80 = 0.0\n",
      "The error on test set = 5.80000090599%\n",
      "The loss for epoch number 90 = 0.00447675006144\n",
      "The error for epoch number 90 = 0.0\n",
      "The error on test set = 5.90000081062%\n"
     ]
    }
   ],
   "source": [
    "# We will train our network over 100 epochs\n",
    "start = time.time()\n",
    "for epoch in range(100):\n",
    "    \n",
    "    # keep track of the loss, error and the number of batches \n",
    "    current_loss  = 0\n",
    "    current_error = 0\n",
    "    num_batches = 0 \n",
    "    \n",
    "    # shuffle the data indices \n",
    "    shuffled_indices = torch.randperm(6000)\n",
    "    for batch in range(0, 6000, bs):\n",
    "        \n",
    "        # extract mini-batches \n",
    "        shuffled_batch = shuffled_indices[batch:batch+bs]\n",
    "        train_minibatch = train_set[shuffled_batch]\n",
    "        label_minibatch = train_targets[shuffled_batch]\n",
    "        \n",
    "        # ---> forward pass \n",
    "        # reset the gradient \n",
    "        optimizer.zero_grad() \n",
    "        # view as a column vector \n",
    "        inputs = train_minibatch.view(bs, 784)\n",
    "        # start recording gradient\n",
    "        inputs.requires_grad_()\n",
    "        # a forward pass on the network \n",
    "        y_hat = net(inputs)\n",
    "        # compute the cross entropy loss \n",
    "        loss = cross_entropy(y_hat, label_minibatch)\n",
    "        # <--- back propagation\n",
    "        loss.backward()\n",
    "        # update the net parameters \n",
    "        optimizer.step() \n",
    "        # get the current error \n",
    "        error = utils.get_error( y_hat.detach() , label_minibatch)\n",
    "        \n",
    "        # update the running stats. \n",
    "        num_batches += 1 \n",
    "        current_loss += loss.detach().item()\n",
    "        current_error += error.item()\n",
    "     \n",
    "    # average loss/error over minibatches for the current epoch \n",
    "    avg_loss = current_loss / num_batches\n",
    "    avg_error = current_error / num_batches\n",
    "    elapsed_time = time.time() - start \n",
    "\n",
    "    # every 10 epochs display stats.\n",
    "    if epoch % 10 == 0: \n",
    "        print('The loss for epoch number ' + str(epoch) + ' = ' + str(avg_loss))\n",
    "        print('The error for epoch number ' + str(epoch) + ' = ' + str(avg_error))\n",
    "\n",
    "        # evaluate error on test set\n",
    "        error_on_test_set()"
   ]
  },
  {
   "cell_type": "code",
   "execution_count": null,
   "metadata": {},
   "outputs": [],
   "source": []
  }
 ],
 "metadata": {
  "kernelspec": {
   "display_name": "Python 2",
   "language": "python",
   "name": "python2"
  },
  "language_info": {
   "codemirror_mode": {
    "name": "ipython",
    "version": 2
   },
   "file_extension": ".py",
   "mimetype": "text/x-python",
   "name": "python",
   "nbconvert_exporter": "python",
   "pygments_lexer": "ipython2",
   "version": "2.7.12"
  }
 },
 "nbformat": 4,
 "nbformat_minor": 2
}
